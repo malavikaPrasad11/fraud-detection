{
 "cells": [
  {
   "cell_type": "code",
   "execution_count": 1,
   "id": "f782bf48",
   "metadata": {},
   "outputs": [],
   "source": [
    "#  This notebook performs feature engineering on transaction data:\n",
    "#  Key steps:\n",
    "#  1. Loads transaction data from 'combined_transactions.csv'\n",
    "#  2. Creates several derived features:\n",
    "#     - IS_HIGH_AMOUNT: Boolean flag for transactions > 220\n",
    "#     - CUSTOMER_TX_COUNT_7D: Rolling 7-day transaction count per customer\n",
    "#     - TERMINAL_FRAUD_COUNT_28D: Rolling 28-day fraud count per terminal\n",
    "#     - CUSTOMER_AVG_AMOUNT_7D: Rolling 7-day average transaction amount per customer\n",
    "#     - AMOUNT_TO_AVG_RATIO: Current transaction amount vs customer's 7-day average\n",
    "#  3. Saves engineered features to 'engineered_transactions.csv'\n"
   ]
  },
  {
   "cell_type": "code",
   "execution_count": 2,
   "id": "5b02e428",
   "metadata": {},
   "outputs": [
    {
     "name": "stdout",
     "output_type": "stream",
     "text": [
      "   TRANSACTION_ID         TX_DATETIME  CUSTOMER_ID  TERMINAL_ID  TX_AMOUNT  \\\n",
      "0               0 2018-04-01 00:00:31          596         3156      57.16   \n",
      "1               1 2018-04-01 00:02:10         4961         3412      81.51   \n",
      "2               2 2018-04-01 00:07:56            2         1365     146.00   \n",
      "3               3 2018-04-01 00:09:29         4128         8737      64.49   \n",
      "4               4 2018-04-01 00:10:34          927         9906      50.99   \n",
      "\n",
      "   TX_TIME_SECONDS  TX_TIME_DAYS  TX_FRAUD  TX_FRAUD_SCENARIO  \n",
      "0               31             0         0                  0  \n",
      "1              130             0         0                  0  \n",
      "2              476             0         0                  0  \n",
      "3              569             0         0                  0  \n",
      "4              634             0         0                  0  \n"
     ]
    }
   ],
   "source": [
    "import pandas as pd\n",
    "\n",
    "df = pd.read_csv(\"../outputs/combined_transactions.csv\")\n",
    "df['TX_DATETIME'] = pd.to_datetime(df['TX_DATETIME'])\n",
    "\n",
    "df = df.sort_values(\"TX_DATETIME\").reset_index(drop=True)\n",
    "print(df.head())\n"
   ]
  },
  {
   "cell_type": "code",
   "execution_count": 3,
   "id": "60096969",
   "metadata": {},
   "outputs": [],
   "source": [
    "df['IS_HIGH_AMOUNT'] = df['TX_AMOUNT'] > 220\n"
   ]
  },
  {
   "cell_type": "code",
   "execution_count": 4,
   "id": "f4f27b5b",
   "metadata": {},
   "outputs": [
    {
     "name": "stdout",
     "output_type": "stream",
     "text": [
      "Requirement already satisfied: tqdm in c:\\users\\admin\\onedrive\\desktop\\internship\\fraud_detection\\env\\lib\\site-packages (4.67.1)\n",
      "Requirement already satisfied: colorama; platform_system == \"Windows\" in c:\\users\\admin\\onedrive\\desktop\\internship\\fraud_detection\\env\\lib\\site-packages (from tqdm) (0.4.6)\n",
      "Note: you may need to restart the kernel to use updated packages.\n"
     ]
    },
    {
     "name": "stderr",
     "output_type": "stream",
     "text": [
      "WARNING: You are using pip version 20.2.3; however, version 25.0.1 is available.\n",
      "You should consider upgrading via the 'c:\\Users\\ADMIN\\OneDrive\\Desktop\\internship\\fraud_detection\\env\\Scripts\\python.exe -m pip install --upgrade pip' command.\n"
     ]
    }
   ],
   "source": [
    "%pip install tqdm"
   ]
  },
  {
   "cell_type": "code",
   "execution_count": 5,
   "id": "1873ef05",
   "metadata": {},
   "outputs": [
    {
     "name": "stderr",
     "output_type": "stream",
     "text": [
      "Processing customers: 100%|██████████| 4990/4990 [17:14<00:00,  4.82it/s]\n"
     ]
    }
   ],
   "source": [
    "df = df.sort_values(['CUSTOMER_ID', 'TX_DATETIME'])\n",
    "\n",
    "df['CUSTOMER_TX_COUNT_7D'] = 0\n",
    "\n",
    "from tqdm import tqdm\n",
    "import numpy as np\n",
    "\n",
    "tqdm.pandas()\n",
    "\n",
    "df['TX_DATETIME'] = pd.to_datetime(df['TX_DATETIME'])\n",
    "customer_ids = df['CUSTOMER_ID'].unique()\n",
    "\n",
    "for customer_id in tqdm(customer_ids, desc=\"Processing customers\"):\n",
    "    customer_df = df[df['CUSTOMER_ID'] == customer_id]\n",
    "    \n",
    "    tx_times = customer_df['TX_DATETIME']\n",
    "    counts = []\n",
    "    \n",
    "    for i in range(len(tx_times)):\n",
    "        current_time = tx_times.iloc[i]\n",
    "        window_start = current_time - pd.Timedelta(days=7)\n",
    "        count = tx_times[(tx_times > window_start) & (tx_times <= current_time)].count()\n",
    "        counts.append(count)\n",
    "    \n",
    "    df.loc[df['CUSTOMER_ID'] == customer_id, 'CUSTOMER_TX_COUNT_7D'] = counts\n"
   ]
  },
  {
   "cell_type": "code",
   "execution_count": 6,
   "id": "58d8d772",
   "metadata": {},
   "outputs": [
    {
     "name": "stderr",
     "output_type": "stream",
     "text": [
      "Processing terminals: 100%|██████████| 10000/10000 [19:38<00:00,  8.49it/s] \n"
     ]
    }
   ],
   "source": [
    "from tqdm import tqdm\n",
    "\n",
    "df = df.sort_values(['TERMINAL_ID', 'TX_DATETIME'])\n",
    "df['TERMINAL_FRAUD_COUNT_28D'] = 0\n",
    "\n",
    "for terminal_id in tqdm(df['TERMINAL_ID'].unique(), desc=\"Processing terminals\"):\n",
    "    terminal_df = df[df['TERMINAL_ID'] == terminal_id]\n",
    "    \n",
    "    tx_times = terminal_df['TX_DATETIME']\n",
    "    fraud_flags = terminal_df['TX_FRAUD']\n",
    "    \n",
    "    fraud_counts = []\n",
    "    for i in range(len(terminal_df)):\n",
    "        current_time = tx_times.iloc[i]\n",
    "        window_start = current_time - pd.Timedelta(days=28)\n",
    "        \n",
    "        count = fraud_flags[(tx_times > window_start) & (tx_times <= current_time)].sum()\n",
    "        fraud_counts.append(count)\n",
    "    \n",
    "    df.loc[df['TERMINAL_ID'] == terminal_id, 'TERMINAL_FRAUD_COUNT_28D'] = fraud_counts\n"
   ]
  },
  {
   "cell_type": "code",
   "execution_count": 7,
   "id": "5fc33ada",
   "metadata": {},
   "outputs": [
    {
     "name": "stderr",
     "output_type": "stream",
     "text": [
      "Processing customer averages: 100%|██████████| 4990/4990 [19:21<00:00,  4.30it/s]\n"
     ]
    }
   ],
   "source": [
    "from tqdm import tqdm\n",
    "df = df.sort_values(['CUSTOMER_ID', 'TX_DATETIME'])\n",
    "df['CUSTOMER_AVG_AMOUNT_7D'] = 0.0\n",
    "\n",
    "for customer_id in tqdm(df['CUSTOMER_ID'].unique(), desc=\"Processing customer averages\"):\n",
    "    customer_df = df[df['CUSTOMER_ID'] == customer_id]\n",
    "    \n",
    "    tx_times = customer_df['TX_DATETIME']\n",
    "    tx_amounts = customer_df['TX_AMOUNT']\n",
    "    \n",
    "    avg_amounts = []\n",
    "    for i in range(len(customer_df)):\n",
    "        current_time = tx_times.iloc[i]\n",
    "        window_start = current_time - pd.Timedelta(days=7)\n",
    "        \n",
    "        past_amounts = tx_amounts[(tx_times > window_start) & (tx_times <= current_time)]\n",
    "        avg = past_amounts.mean() if not past_amounts.empty else 0\n",
    "        avg_amounts.append(avg)\n",
    "    \n",
    "    df.loc[df['CUSTOMER_ID'] == customer_id, 'CUSTOMER_AVG_AMOUNT_7D'] = avg_amounts\n"
   ]
  },
  {
   "cell_type": "code",
   "execution_count": 8,
   "id": "5619cda5",
   "metadata": {},
   "outputs": [],
   "source": [
    "df['AMOUNT_TO_AVG_RATIO'] = df['TX_AMOUNT'] / (df['CUSTOMER_AVG_AMOUNT_7D'] + 1e-5)\n"
   ]
  },
  {
   "cell_type": "code",
   "execution_count": 9,
   "id": "40184ab1",
   "metadata": {},
   "outputs": [
    {
     "name": "stdout",
     "output_type": "stream",
     "text": [
      "✅ Feature engineering complete. Saved to outputs/engineered_transactions.csv\n"
     ]
    }
   ],
   "source": [
    "df.to_csv(\"../outputs/engineered_transactions.csv\", index=False)\n",
    "print(\"✅ Feature engineering complete. Saved to outputs/engineered_transactions.csv\")\n"
   ]
  }
 ],
 "metadata": {
  "kernelspec": {
   "display_name": "env",
   "language": "python",
   "name": "python3"
  },
  "language_info": {
   "codemirror_mode": {
    "name": "ipython",
    "version": 3
   },
   "file_extension": ".py",
   "mimetype": "text/x-python",
   "name": "python",
   "nbconvert_exporter": "python",
   "pygments_lexer": "ipython3",
   "version": "3.8.7rc1"
  }
 },
 "nbformat": 4,
 "nbformat_minor": 5
}
