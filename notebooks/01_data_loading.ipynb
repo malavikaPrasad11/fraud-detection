{
 "cells": [
  {
   "cell_type": "code",
   "execution_count": null,
   "id": "b20494d8",
   "metadata": {},
   "outputs": [],
   "source": [
    "# This code performs the following operations:\n",
    "# 1. Loads all .pkl files from '../dataset/data' directory\n",
    "# 2. Combines them into a single DataFrame\n",
    "# 3. Converts TX_DATETIME column to datetime format\n",
    "# 4. Sorts data by transaction datetime\n",
    "# 5. Checks for missing values\n",
    "# 6. Exports the combined data to CSV\n",
    "\n",
    "# Key statistics:\n",
    "# - Source: Multiple pickle files from ../dataset/data\n",
    "# - Output: ../outputs/combined_transactions.csv\n",
    "# - Operations: Concatenation, datetime conversion, sorting"
   ]
  },
  {
   "cell_type": "code",
   "execution_count": null,
   "id": "f9d8c526",
   "metadata": {},
   "outputs": [
    {
     "name": "stdout",
     "output_type": "stream",
     "text": [
      "✅ Loaded 183 files. Shape: (1754155, 9)\n",
      "   TRANSACTION_ID         TX_DATETIME CUSTOMER_ID TERMINAL_ID  TX_AMOUNT  \\\n",
      "0               0 2018-04-01 00:00:31         596        3156      57.16   \n",
      "1               1 2018-04-01 00:02:10        4961        3412      81.51   \n",
      "2               2 2018-04-01 00:07:56           2        1365     146.00   \n",
      "3               3 2018-04-01 00:09:29        4128        8737      64.49   \n",
      "4               4 2018-04-01 00:10:34         927        9906      50.99   \n",
      "\n",
      "  TX_TIME_SECONDS TX_TIME_DAYS  TX_FRAUD  TX_FRAUD_SCENARIO  \n",
      "0              31            0         0                  0  \n",
      "1             130            0         0                  0  \n",
      "2             476            0         0                  0  \n",
      "3             569            0         0                  0  \n",
      "4             634            0         0                  0  \n",
      "\n",
      "Missing values:\n",
      " TRANSACTION_ID       0\n",
      "TX_DATETIME          0\n",
      "CUSTOMER_ID          0\n",
      "TERMINAL_ID          0\n",
      "TX_AMOUNT            0\n",
      "TX_TIME_SECONDS      0\n",
      "TX_TIME_DAYS         0\n",
      "TX_FRAUD             0\n",
      "TX_FRAUD_SCENARIO    0\n",
      "dtype: int64\n",
      "📁 Exported to outputs/combined_transactions.csv\n"
     ]
    }
   ],
   "source": [
    "import pandas as pd\n",
    "import os\n",
    "\n",
    "data_folder = \"../dataset/data\" \n",
    "\n",
    "pkl_files = sorted([f for f in os.listdir(data_folder) if f.endswith('.pkl')])\n",
    "dfs = [pd.read_pickle(os.path.join(data_folder, file)) for file in pkl_files]\n",
    "\n",
    "df = pd.concat(dfs, ignore_index=True)\n",
    "\n",
    "df['TX_DATETIME'] = pd.to_datetime(df['TX_DATETIME'])\n",
    "\n",
    "df = df.sort_values('TX_DATETIME').reset_index(drop=True)\n",
    "\n",
    "print(f\"✅ Loaded {len(pkl_files)} files. Shape: {df.shape}\")\n",
    "print(df.head())\n",
    "print(\"\\nMissing values:\\n\", df.isnull().sum())\n",
    "df.to_csv(\"../outputs/combined_transactions.csv\", index=False)\n",
    "print(\"📁 Exported to outputs/combined_transactions.csv\")\n"
   ]
  }
 ],
 "metadata": {
  "kernelspec": {
   "display_name": ".venv",
   "language": "python",
   "name": "python3"
  },
  "language_info": {
   "codemirror_mode": {
    "name": "ipython",
    "version": 3
   },
   "file_extension": ".py",
   "mimetype": "text/x-python",
   "name": "python",
   "nbconvert_exporter": "python",
   "pygments_lexer": "ipython3",
   "version": "3.8.7"
  }
 },
 "nbformat": 4,
 "nbformat_minor": 5
}
